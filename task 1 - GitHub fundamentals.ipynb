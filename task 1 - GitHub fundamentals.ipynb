{
 "cells": [
  {
   "cell_type": "markdown",
   "id": "5b7110e6",
   "metadata": {},
   "source": [
    "# GitHub Fundamentals "
   ]
  },
  {
   "cell_type": "markdown",
   "id": "73c53959",
   "metadata": {},
   "source": [
    "## What I've learned from last week's material:"
   ]
  },
  {
   "cell_type": "markdown",
   "id": "ed54b38c",
   "metadata": {},
   "source": [
    "1. What is github and why it's great to use it - it makes working with others easier, so that groups of people can work together on the same project and merge their changes into one final source\n",
    "2. What are repositories - repository is where your project work happens (project folder), it contains all of your project’s files and revision history.\n",
    "3. Cloning - when a repository is created with GitHub it’s stored remotely in the cloud, but it can be cloned a to create a local copy on your computer and then use Git to sync the two.\n",
    "4. Committing and pushing - this is how you can add the changes you made on your local machine to the remote repository in GitHub.\n",
    "5. Some vital terms for working with GitHub - repositories, branches, forks, pull requests, issues, READMEs.\n"
   ]
  },
  {
   "cell_type": "markdown",
   "id": "5c7f7086",
   "metadata": {},
   "source": [
    "## What I'm still a little confused about:"
   ]
  },
  {
   "cell_type": "markdown",
   "id": "3e1669ab",
   "metadata": {},
   "source": [
    "1. What's the difference between GitHub, GitHub Classroom and GitHub Desktop?\n",
    "- when do I use which one\n",
    "2. Can you please show us how to submit our assignments through GitHub? \n",
    "- I'd like to make sure I'm doing it correctly before the first assignment is due\n",
    "3. Committing and pushing - I am very confused how that works."
   ]
  },
  {
   "cell_type": "code",
   "execution_count": null,
   "id": "3b01a845",
   "metadata": {},
   "outputs": [],
   "source": []
  }
 ],
 "metadata": {
  "kernelspec": {
   "display_name": "Python 3",
   "language": "python",
   "name": "python3"
  },
  "language_info": {
   "codemirror_mode": {
    "name": "ipython",
    "version": 3
   },
   "file_extension": ".py",
   "mimetype": "text/x-python",
   "name": "python",
   "nbconvert_exporter": "python",
   "pygments_lexer": "ipython3",
   "version": "3.8.8"
  }
 },
 "nbformat": 4,
 "nbformat_minor": 5
}
